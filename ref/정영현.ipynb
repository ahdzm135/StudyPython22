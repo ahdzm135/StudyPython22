{
 "cells": [
  {
   "cell_type": "markdown",
   "metadata": {},
   "source": [
    "### 1번문제"
   ]
  },
  {
   "cell_type": "code",
   "execution_count": 36,
   "metadata": {},
   "outputs": [
    {
     "name": "stdout",
     "output_type": "stream",
     "text": [
      "원의 넓이(거듭제곱 **) : 50.27\n"
     ]
    }
   ],
   "source": [
    "# 1번문제\n",
    "r = float(input(\"반지름을 입력해 주세요.\"))\n",
    "\n",
    "area = r**2 * 3.141592\n",
    "\n",
    "print(f\"원의 넓이(거듭제곱 **) : {round(area, 2)}\")"
   ]
  },
  {
   "cell_type": "markdown",
   "metadata": {},
   "source": [
    "### 2번문제"
   ]
  },
  {
   "cell_type": "code",
   "execution_count": 4,
   "metadata": {},
   "outputs": [
    {
     "data": {
      "text/plain": [
       "'Earth'"
      ]
     },
     "execution_count": 4,
     "metadata": {},
     "output_type": "execute_result"
    }
   ],
   "source": [
    "# 2번문제\n",
    "dic = {\"수성\": 'Mercury', '금성': 'Venus', '지구': 'Earth', '화성': 'Mars', '목성': 'Jupiter', '토성': 'Saturn','천왕성': 'Uranus','혜왕성': 'Neptune'}\n",
    "name = input('찾을 행성의 한글이름을 적으세요')\n",
    "\n",
    "dic[name]"
   ]
  },
  {
   "cell_type": "markdown",
   "metadata": {},
   "source": [
    "### 3번문제"
   ]
  },
  {
   "cell_type": "code",
   "execution_count": 6,
   "metadata": {},
   "outputs": [
    {
     "name": "stdout",
     "output_type": "stream",
     "text": [
      "6\n"
     ]
    }
   ],
   "source": [
    "# initialize string\n",
    "text = '흐르는 강물을 거꾸로 거슬러 오르는 연어들의'\n",
    "\n",
    "# default separator: space\n",
    "result = len(text.split())\n",
    "\n",
    "print(str(result))"
   ]
  },
  {
   "cell_type": "markdown",
   "metadata": {},
   "source": [
    "### 4번문제"
   ]
  },
  {
   "cell_type": "code",
   "execution_count": 8,
   "metadata": {},
   "outputs": [
    {
     "name": "stdout",
     "output_type": "stream",
     "text": [
      "29541\n"
     ]
    }
   ],
   "source": [
    "a = int(input())\n",
    " \n",
    "# 123 = 321 / 1234 = 4321 / 12345 = 54321\n",
    "print(int(str(a)[::-1]))"
   ]
  },
  {
   "cell_type": "markdown",
   "metadata": {},
   "source": [
    "### 5번문제"
   ]
  },
  {
   "cell_type": "code",
   "execution_count": 48,
   "metadata": {},
   "outputs": [
    {
     "name": "stdout",
     "output_type": "stream",
     "text": [
      "3 6 9 12 15 18 21 24 27 "
     ]
    }
   ],
   "source": [
    "if __name__ == \"__main__\":\n",
    "    \n",
    "    x = int(input(\"2-9 사이의 단을 입력하세요 : \"))\n",
    "    \n",
    "    while(x < 2 or x > 9):\n",
    "        print(\"잘못 입력되었습니다\")\n",
    "        x = int(input(\"2-9 사이의 단을 다시 입력하세요 : \"))\n",
    "\n",
    "    for y in range(1, 10):\n",
    "        print(f'{x * y}', end=' ')\n",
    "\n",
    "    "
   ]
  }
 ],
 "metadata": {
  "interpreter": {
   "hash": "38ae1ba9371524da054e8e3fbefd778d16b5a8ac7937a3f395010f627bb73919"
  },
  "kernelspec": {
   "display_name": "Python 3.9.12 64-bit",
   "language": "python",
   "name": "python3"
  },
  "language_info": {
   "codemirror_mode": {
    "name": "ipython",
    "version": 3
   },
   "file_extension": ".py",
   "mimetype": "text/x-python",
   "name": "python",
   "nbconvert_exporter": "python",
   "pygments_lexer": "ipython3",
   "version": "3.9.12"
  },
  "orig_nbformat": 4
 },
 "nbformat": 4,
 "nbformat_minor": 2
}
